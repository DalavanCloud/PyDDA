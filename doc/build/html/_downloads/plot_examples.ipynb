{
  "metadata": {
    "kernelspec": {
      "display_name": "Python 3",
      "language": "python",
      "name": "python3"
    },
    "language_info": {
      "mimetype": "text/x-python",
      "file_extension": ".py",
      "nbconvert_exporter": "python",
      "pygments_lexer": "ipython3",
      "name": "python",
      "version": "3.5.2",
      "codemirror_mode": {
        "version": 3,
        "name": "ipython"
      }
    }
  },
  "nbformat": 4,
  "nbformat_minor": 0,
  "cells": [
    {
      "execution_count": null,
      "cell_type": "code",
      "metadata": {
        "collapsed": false
      },
      "outputs": [],
      "source": [
        "%matplotlib inline"
      ]
    },
    {
      "cell_type": "markdown",
      "metadata": {},
      "source": [
        "\nExample on retrieving and plotting winds\n----------------------------------------\n\nThis is a simple example for how to retrieve and plot winds from 2 radars\nusing PyDDA.\n\nAuthor: Robert C. Jackson\n\n\n"
      ]
    },
    {
      "execution_count": null,
      "cell_type": "code",
      "metadata": {
        "collapsed": false
      },
      "outputs": [],
      "source": [
        "import pyart\nimport pydda\nfrom matplotlib import pyplot as plt\nimport numpy as np\n\n\nberr_grid = pyart.io.read_grid(\"/home/rjackson/data/berr_Darwin_hires.nc\")\ncpol_grid = pyart.io.read_grid(\"/home/rjackson/data/cpol_Darwin_hires.nc\")\n\nsounding = pyart.io.read_arm_sonde(\n    \"/home/rjackson/data/soundings/twpsondewnpnC3.b1.20060119.231600.custom.cdf\")\n\n\n# Load sounding data and insert as an intialization\nu_init, v_init, w_init = pydda.initialization.make_wind_field_from_profile(\n        cpol_grid, sounding, vel_field='VT')\n\n# Start the wind retrieval. This example only uses the mass continuity\n# and data weighting constraints.\nGrids = pydda.retrieval.get_dd_wind_field([berr_grid, cpol_grid], u_init,\n                                          v_init, w_init, Co=10.0, Cm=1500.0, \n                                          Cz=0, vel_name='VT', refl_field='DT',\n                                          frz=5000.0, filt_iterations=2, \n                                          mask_outside_opt=True, upper_bc=1)\n# Plot a horizontal cross section\nplt.figure(figsize=(9,9))\npydda.vis.plot_horiz_xsection_barbs(Grids, background_field='DT', level=6,\n                                    w_vel_contours=[3, 6, 9, 12, 15],\n                                    barb_spacing_x_km=5.0,\n                                    barb_spacing_y_km=15.0)\n\n# Plot a vertical X-Z cross section\nplt.figure(figsize=(9,9))\npydda.vis.plot_xz_xsection_barbs(Grids, background_field='DT', level=40,\n                                 w_vel_contours=[3, 6, 9, 12, 15],\n                                 barb_spacing_x_km=10.0,\n                                 barb_spacing_z_km=2.0)\n\n# Plot a vertical Y-Z cross section\nplt.figure(figsize=(9,9))\npydda.vis.plot_yz_xsection_barbs(Grids, background_field='DT', level=40,\n                                 w_vel_contours=[3, 6, 9, 12, 15],\n                                 barb_spacing_x_km=10.0,\n                                 barb_spacing_z_km=2.0)"
      ]
    }
  ]
}