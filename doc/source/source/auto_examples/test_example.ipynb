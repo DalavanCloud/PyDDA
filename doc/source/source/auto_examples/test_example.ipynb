{
  "nbformat_minor": 0,
  "metadata": {
    "kernelspec": {
      "name": "python3",
      "display_name": "Python 3",
      "language": "python"
    },
    "language_info": {
      "name": "python",
      "codemirror_mode": {
        "name": "ipython",
        "version": 3
      },
      "file_extension": ".py",
      "nbconvert_exporter": "python",
      "mimetype": "text/x-python",
      "pygments_lexer": "ipython3",
      "version": "3.5.2"
    }
  },
  "nbformat": 4,
  "cells": [
    {
      "source": [
        "%matplotlib inline"
      ],
      "outputs": [],
      "metadata": {
        "collapsed": false
      },
      "execution_count": null,
      "cell_type": "code"
    },
    {
      "source": [
        "\nExample on retrieving and plotting winds\n----------------------------------------\n\nThis is a simple example for how to retrieve and plot winds from 2 radars\nusing PyDDA.\n\nAuthor: Robert C. Jackson\n\n\n"
      ],
      "metadata": {},
      "cell_type": "markdown"
    },
    {
      "source": [
        "import pyart\nimport pydda\nfrom matplotlib import pyplot as plt\nimport numpy as np\n\n\nberr_grid = pyart.io.read_grid(\"/home/rjackson/data/berr_Darwin_hires.nc\")\ncpol_grid = pyart.io.read_grid(\"/home/rjackson/data/cpol_Darwin_hires.nc\")\n\nsounding = pyart.io.read_arm_sonde(\n    \"/home/rjackson/data/soundings/twpsondewnpnC3.b1.20060119.231600.custom.cdf\")\n\n\n# Load sounding data and insert as an intialization\nu_init, v_init, w_init = pydda.retrieval.make_wind_field_from_profile(\n        cpol_grid, sounding, vel_field='VT')\n\n# Start the wind retrieval. This example only uses the mass continuity\n# and data weighting constraints.\nGrids = pydda.retrieval.get_dd_wind_field([berr_grid, cpol_grid], u_init,\n                                          v_init, w_init, Co=100.0, Cm=1500.0, \n                                          Cz=0, vel_name='VT', refl_field='DT',\n                                          frz=4000.0, filt_iterations=0, \n                                          mask_outside_opt=True, upper_bc=1)\n# Plot a horizontal cross section\nplt.figure(figsize=(8,8))\npydda.vis.plot_horiz_xsection_barbs(Grids, 'DT', level=4,\n                                    w_vel_contours=[5, 10, 15, 20],\n                                    barb_spacing_x_km=5.0,\n                                    barb_spacing_y_km=15.0)\n\n# Plot a vertical X-Z cross section\nplt.figure(figsize=(8,8))\npydda.vis.plot_xz_xsection_barbs(Grids, 'DT', level=80,\n                                 w_vel_contours=[5, 10, 15, 20],\n                                 barb_spacing_x_km=10.0,\n                                 barb_spacing_z_km=2.0)\n\n# Plot a vertical Y-Z cross section\nplt.figure(figsize=(8,8))\npydda.vis.plot_yz_xsection_barbs(Grids, 'DT', level=84,\n                                 w_vel_contours=[5, 10, 15, 20],\n                                 barb_spacing_x_km=10.0,\n                                 barb_spacing_z_km=2.0)"
      ],
      "outputs": [],
      "metadata": {
        "collapsed": false
      },
      "execution_count": null,
      "cell_type": "code"
    }
  ]
}